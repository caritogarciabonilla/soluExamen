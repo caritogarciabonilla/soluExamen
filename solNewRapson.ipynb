{
 "cells": [
  {
   "cell_type": "code",
   "execution_count": 1,
   "metadata": {},
   "outputs": [
    {
     "name": "stdout",
     "output_type": "stream",
     "text": [
      "Collecting matplotlib\n",
      "\u001b[?25l  Downloading https://files.pythonhosted.org/packages/19/7a/60bd79c5d79559150f8bba866dd7d434f0a170312e4d15e8aefa5faba294/matplotlib-3.1.1-cp37-cp37m-manylinux1_x86_64.whl (13.1MB)\n",
      "\u001b[K     |████████████████████████████████| 13.1MB 3.4MB/s eta 0:00:01\n",
      "\u001b[?25hRequirement already satisfied: python-dateutil>=2.1 in /srv/conda/envs/notebook/lib/python3.7/site-packages (from matplotlib) (2.8.0)\n",
      "Collecting pyparsing!=2.0.4,!=2.1.2,!=2.1.6,>=2.0.1 (from matplotlib)\n",
      "\u001b[?25l  Downloading https://files.pythonhosted.org/packages/11/fa/0160cd525c62d7abd076a070ff02b2b94de589f1a9789774f17d7c54058e/pyparsing-2.4.2-py2.py3-none-any.whl (65kB)\n",
      "\u001b[K     |████████████████████████████████| 71kB 27.5MB/s eta 0:00:01\n",
      "\u001b[?25hCollecting kiwisolver>=1.0.1 (from matplotlib)\n",
      "\u001b[?25l  Downloading https://files.pythonhosted.org/packages/93/f8/518fb0bb89860eea6ff1b96483fbd9236d5ee991485d0f3eceff1770f654/kiwisolver-1.1.0-cp37-cp37m-manylinux1_x86_64.whl (90kB)\n",
      "\u001b[K     |████████████████████████████████| 92kB 29.8MB/s eta 0:00:01\n",
      "\u001b[?25hCollecting cycler>=0.10 (from matplotlib)\n",
      "  Downloading https://files.pythonhosted.org/packages/f7/d2/e07d3ebb2bd7af696440ce7e754c59dd546ffe1bbe732c8ab68b9c834e61/cycler-0.10.0-py2.py3-none-any.whl\n",
      "Collecting numpy>=1.11 (from matplotlib)\n",
      "\u001b[?25l  Downloading https://files.pythonhosted.org/packages/00/4a/e34fce8f18c0e052c2b49f1b3713469d855f7662d58ae2b82a88341e865b/numpy-1.17.3-cp37-cp37m-manylinux1_x86_64.whl (20.0MB)\n",
      "\u001b[K     |████████████████████████████████| 20.0MB 36.7MB/s eta 0:00:01\n",
      "\u001b[?25hRequirement already satisfied: six>=1.5 in /srv/conda/envs/notebook/lib/python3.7/site-packages (from python-dateutil>=2.1->matplotlib) (1.12.0)\n",
      "Requirement already satisfied: setuptools in /srv/conda/envs/notebook/lib/python3.7/site-packages (from kiwisolver>=1.0.1->matplotlib) (41.2.0)\n",
      "Installing collected packages: pyparsing, kiwisolver, cycler, numpy, matplotlib\n",
      "Successfully installed cycler-0.10.0 kiwisolver-1.1.0 matplotlib-3.1.1 numpy-1.17.3 pyparsing-2.4.2\n"
     ]
    }
   ],
   "source": [
    "!pip install matplotlib"
   ]
  },
  {
   "cell_type": "markdown",
   "metadata": {},
   "source": [
    "# El Método de NewtonRamson lo podemos usar para encontrar las raices de un polinomio. Adicionalmente podríamos resolver usando el metodo de biseccion y el de fuerza bruta. Este último pretende \n"
   ]
  },
  {
   "cell_type": "code",
   "execution_count": 36,
   "metadata": {},
   "outputs": [],
   "source": [
    "def f(x):\n",
    "    return (x+2.0)*(x-2.0)*(x-4.0)"
   ]
  },
  {
   "cell_type": "code",
   "execution_count": 14,
   "metadata": {},
   "outputs": [],
   "source": [
    "#para el calculo de la derivada\n",
    "# el polinomio es equivalente a tener f(x)=x**3-8x+16\n",
    "# de manera que se sus cursos de calculo sabemos la dervada y la podemos calcular\n",
    "def fprima(x):\n",
    "    return (3*x*x)-8"
   ]
  },
  {
   "cell_type": "code",
   "execution_count": 52,
   "metadata": {},
   "outputs": [],
   "source": [
    "#epsi: es el valor de la precision que queremos obtener\n",
    "def metodo(x0,epsi):\n",
    "    miepsi=1000\n",
    "    while (miepsi>epsi):\n",
    "        xnew=x0-(f(x0)/fprima(x0))\n",
    "        miepsi=abs(f(xnew))\n",
    "        x0=xnew\n",
    "    return x0\n"
   ]
  },
  {
   "cell_type": "code",
   "execution_count": 29,
   "metadata": {},
   "outputs": [],
   "source": [
    "# Graficamos la funcion para determinar los puntos cercanos a los ceros"
   ]
  },
  {
   "cell_type": "code",
   "execution_count": 30,
   "metadata": {},
   "outputs": [
    {
     "name": "stdout",
     "output_type": "stream",
     "text": [
      "Populating the interactive namespace from numpy and matplotlib\n"
     ]
    },
    {
     "name": "stderr",
     "output_type": "stream",
     "text": [
      "/srv/conda/envs/notebook/lib/python3.7/site-packages/IPython/core/magics/pylab.py:160: UserWarning: pylab import has clobbered these variables: ['f']\n",
      "`%matplotlib` prevents importing * from pylab and numpy\n",
      "  \"\\n`%matplotlib` prevents importing * from pylab and numpy\"\n"
     ]
    }
   ],
   "source": [
    "%pylab inline"
   ]
  },
  {
   "cell_type": "code",
   "execution_count": 37,
   "metadata": {},
   "outputs": [
    {
     "name": "stdout",
     "output_type": "stream",
     "text": [
      "[16.0, 15.556178044087442, 15.036915425039087, 14.448395803767704, 13.796802841186068, 13.088320198206944, 12.329131535743107, 11.525420514707323, 10.683370796012364, 9.809166040570998, 8.908989909296, 7.989026063100137, 7.055458162896179, 6.114469869596896, 5.1722448441150615, 4.234966747363441, 3.3088192402548082, 2.3999859837019315, 1.514650638617581, 0.658996865914528, -0.16079167349445997, -0.9385313186966071, -1.6680384087791502, -2.343129282829313, -2.95762027993433, -3.5053277391814266, -3.9800679996578374, -4.375657400450788, -4.6859122806475115, -4.904648979335235, -5.025683835601191, -5.042833188532607, -4.949913377216713, -4.7407407407407405, -4.4091316181919185, -3.948902348657475, -3.3538692712246445, -2.6178487249806492, -1.7346570490127284, -0.6981105824081024, 0.49797433574599503, 1.8597813663623215, 3.3934941703536707, 5.105296408632803, 7.001371742112487, 9.087903831705473, 11.371076338324572, 13.857072922882532, 16.552077246292125, 19.462272969466124, 22.593843753317266, 25.95297325875838, 29.545845146702206, 33.378643078061515, 37.45755071374904, 41.78875171467763, 46.378429741760016, 51.23276845590896, 56.3579515180372, 61.760162589057586, 67.44558532988285, 73.42040340142576, 79.69080046459904, 86.26296018031555, 93.143066209488, 100.33730221302919, 107.85185185185188, 115.69289878686878, 123.86662667899274, 132.37921918913653, 141.23685997821292, 150.44573270713457, 160.01202103681442, 169.94190862816512, 180.2415791420995, 190.9172162395302, 201.97500358137026, 213.42112482853224, 225.26176364192892, 237.50310368247304, 250.1513286110777, 263.2126220886551, 276.69316777611834, 290.59914933438046, 304.93675042435365, 319.71215470695125, 334.9315458430855, 350.60110749366936, 366.72702331961597, 383.3154769818375, 400.372652141247, 417.90473245875756, 435.91790159528136, 454.4183432117317, 473.41224096902084, 492.90577852806183, 512.9051395497677, 533.4165076950507, 554.4460666248241, 576.0]\n"
     ]
    }
   ],
   "source": [
    "x=linspace(0,10,100)\n",
    "y=[]\n",
    "for i in range(100):\n",
    "    y.append(f(x[i]))\n",
    "print(y)"
   ]
  },
  {
   "cell_type": "code",
   "execution_count": 38,
   "metadata": {},
   "outputs": [
    {
     "data": {
      "text/plain": [
       "[<matplotlib.lines.Line2D at 0x7fee8c7df6a0>]"
      ]
     },
     "execution_count": 38,
     "metadata": {},
     "output_type": "execute_result"
    },
    {
     "data": {
      "image/png": "[encoded data removed]",
      "text/plain": [
       "<Figure size 432x288 with 1 Axes>"
      ]
     },
     "metadata": {
      "needs_background": "light"
     },
     "output_type": "display_data"
    }
   ],
   "source": [
    "plot(x,y)"
   ]
  },
  {
   "cell_type": "code",
   "execution_count": null,
   "metadata": {},
   "outputs": [],
   "source": []
  },
  {
   "cell_type": "code",
   "execution_count": 41,
   "metadata": {},
   "outputs": [
    {
     "data": {
      "text/plain": [
       "[<matplotlib.lines.Line2D at 0x7fee7d93cef0>]"
      ]
     },
     "execution_count": 41,
     "metadata": {},
     "output_type": "execute_result"
    },
    {
     "data": {
      "image/png": "[encoded data removed]",
      "text/plain": [
       "<Figure size 432x288 with 1 Axes>"
      ]
     },
     "metadata": {
      "needs_background": "light"
     },
     "output_type": "display_data"
    }
   ],
   "source": [
    "xx=linspace(-3,5,20)\n",
    "yy=[]\n",
    "for i in range(20):\n",
    "    yy.append(f(xx[i]))\n",
    "plot(xx,yy)"
   ]
  },
  {
   "cell_type": "code",
   "execution_count": null,
   "metadata": {},
   "outputs": [],
   "source": [
    "#Ejecutando el codigo del metodo para una una de las raices, eligiendo 3.5 como punto inicial"
   ]
  },
  {
   "cell_type": "code",
   "execution_count": 55,
   "metadata": {},
   "outputs": [
    {
     "data": {
      "text/plain": [
       "3.999752950117822"
      ]
     },
     "execution_count": 55,
     "metadata": {},
     "output_type": "execute_result"
    }
   ],
   "source": [
    "metodo(3.7, 0.003)"
   ]
  },
  {
   "cell_type": "code",
   "execution_count": 54,
   "metadata": {},
   "outputs": [
    {
     "data": {
      "text/plain": [
       "3.9997650764904322"
      ]
     },
     "execution_count": 54,
     "metadata": {},
     "output_type": "execute_result"
    }
   ],
   "source": [
    "metodo(3.9, 0.003)"
   ]
  },
  {
   "cell_type": "code",
   "execution_count": 56,
   "metadata": {},
   "outputs": [
    {
     "data": {
      "text/plain": [
       "4.000177977377398"
      ]
     },
     "execution_count": 56,
     "metadata": {},
     "output_type": "execute_result"
    }
   ],
   "source": [
    "metodo(1.5,0.003)"
   ]
  },
  {
   "cell_type": "code",
   "execution_count": null,
   "metadata": {},
   "outputs": [],
   "source": [
    "# con lo anterior no estamos obteniendo los ceros que queremos porque se aproxima muy rápidamente a la raiz mayor"
   ]
  },
  {
   "cell_type": "markdown",
   "metadata": {},
   "source": [
    "# mas adelante veremos que la derivada se puede calcular numericamente, también con ayuda de los conceptos de calculo diferencial. Una de las expresiones numericas que da los mejores resultados es como sigue\n"
   ]
  },
  {
   "cell_type": "code",
   "execution_count": null,
   "metadata": {},
   "outputs": [],
   "source": [
    "def fprima(x):\n",
    "    h=0.000003\n",
    "    return (f(x+h)-f(x-h))/(2.0*h)\n"
   ]
  }
 ],
 "metadata": {
  "kernelspec": {
   "display_name": "Python 3",
   "language": "python",
   "name": "python3"
  },
  "language_info": {
   "codemirror_mode": {
    "name": "ipython",
    "version": 3
   },
   "file_extension": ".py",
   "mimetype": "text/x-python",
   "name": "python",
   "nbconvert_exporter": "python",
   "pygments_lexer": "ipython3",
   "version": "3.7.3"
  }
 },
 "nbformat": 4,
 "nbformat_minor": 2
}
