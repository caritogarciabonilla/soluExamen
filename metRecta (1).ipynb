{
 "cells": [
  {
   "cell_type": "code",
   "execution_count": null,
   "metadata": {},
   "outputs": [],
   "source": [
    "Se asume que los estudiantes ya saben usar numpy y matplotlib"
   ]
  },
  {
   "cell_type": "code",
   "execution_count": 1,
   "metadata": {},
   "outputs": [
    {
     "name": "stdout",
     "output_type": "stream",
     "text": [
      "Collecting matplotlib\n",
      "\u001b[?25l  Downloading https://files.pythonhosted.org/packages/19/7a/60bd79c5d79559150f8bba866dd7d434f0a170312e4d15e8aefa5faba294/matplotlib-3.1.1-cp37-cp37m-manylinux1_x86_64.whl (13.1MB)\n",
      "\u001b[K     |████████████████████████████████| 13.1MB 3.4MB/s eta 0:00:01\n",
      "\u001b[?25hRequirement already satisfied: python-dateutil>=2.1 in /srv/conda/envs/notebook/lib/python3.7/site-packages (from matplotlib) (2.8.0)\n",
      "Collecting pyparsing!=2.0.4,!=2.1.2,!=2.1.6,>=2.0.1 (from matplotlib)\n",
      "\u001b[?25l  Downloading https://files.pythonhosted.org/packages/11/fa/0160cd525c62d7abd076a070ff02b2b94de589f1a9789774f17d7c54058e/pyparsing-2.4.2-py2.py3-none-any.whl (65kB)\n",
      "\u001b[K     |████████████████████████████████| 71kB 27.5MB/s eta 0:00:01\n",
      "\u001b[?25hCollecting kiwisolver>=1.0.1 (from matplotlib)\n",
      "\u001b[?25l  Downloading https://files.pythonhosted.org/packages/93/f8/518fb0bb89860eea6ff1b96483fbd9236d5ee991485d0f3eceff1770f654/kiwisolver-1.1.0-cp37-cp37m-manylinux1_x86_64.whl (90kB)\n",
      "\u001b[K     |████████████████████████████████| 92kB 29.8MB/s eta 0:00:01\n",
      "\u001b[?25hCollecting cycler>=0.10 (from matplotlib)\n",
      "  Downloading https://files.pythonhosted.org/packages/f7/d2/e07d3ebb2bd7af696440ce7e754c59dd546ffe1bbe732c8ab68b9c834e61/cycler-0.10.0-py2.py3-none-any.whl\n",
      "Collecting numpy>=1.11 (from matplotlib)\n",
      "\u001b[?25l  Downloading https://files.pythonhosted.org/packages/00/4a/e34fce8f18c0e052c2b49f1b3713469d855f7662d58ae2b82a88341e865b/numpy-1.17.3-cp37-cp37m-manylinux1_x86_64.whl (20.0MB)\n",
      "\u001b[K     |████████████████████████████████| 20.0MB 36.7MB/s eta 0:00:01\n",
      "\u001b[?25hRequirement already satisfied: six>=1.5 in /srv/conda/envs/notebook/lib/python3.7/site-packages (from python-dateutil>=2.1->matplotlib) (1.12.0)\n",
      "Requirement already satisfied: setuptools in /srv/conda/envs/notebook/lib/python3.7/site-packages (from kiwisolver>=1.0.1->matplotlib) (41.2.0)\n",
      "Installing collected packages: pyparsing, kiwisolver, cycler, numpy, matplotlib\n",
      "Successfully installed cycler-0.10.0 kiwisolver-1.1.0 matplotlib-3.1.1 numpy-1.17.3 pyparsing-2.4.2\n"
     ]
    }
   ],
   "source": [
    "!pip install matplotlib"
   ]
  },
  {
   "cell_type": "markdown",
   "metadata": {},
   "source": [
    "# Quizá el método más popular para hacer aproximar un conjunto de puntos a una linea recta, es el método de mínimos cuadrados. En esta ocasión usaremos el método ya implementado en la librebría scipy, cmo primer ejercicio para comenzar a usar esta libreria. \n",
    " "
   ]
  },
  {
   "cell_type": "code",
   "execution_count": null,
   "metadata": {},
   "outputs": [],
   "source": [
    "# para lo anterior lo primero que debemos hacer es la intalación del paquete"
   ]
  },
  {
   "cell_type": "code",
   "execution_count": null,
   "metadata": {},
   "outputs": [],
   "source": [
    "!pip install scipy"
   ]
  },
  {
   "cell_type": "code",
   "execution_count": null,
   "metadata": {},
   "outputs": [],
   "source": [
    "# Es bueno que use el manual para que "
   ]
  },
  {
   "cell_type": "markdown",
   "metadata": {},
   "source": [
    "### a continuación vamos a crear un conjunto de puntos que siguen la ecuación de una línea recta, luego agregaremos ruido, para finalmente encontrar las constantes de la línea recta usando la lbrería Scipy"
   ]
  },
  {
   "cell_type": "code",
   "execution_count": 5,
   "metadata": {},
   "outputs": [],
   "source": [
    "# definimos la ecuacion para cualquier linea recta\n",
    "def recta(x,aa,bb):\n",
    "    return aa*x+bb"
   ]
  },
  {
   "cell_type": "code",
   "execution_count": 6,
   "metadata": {},
   "outputs": [],
   "source": [
    "#cargamos el paquete que hace el fit de los puntos\n",
    "\n",
    "%pylab inline\n",
    "\n",
    "from scipy.optimize import curve_fit\n",
    "    "
   ]
  },
  {
   "cell_type": "markdown",
   "metadata": {},
   "source": [
    "# la recta que deben seguir los puntos es\n",
    "y=2.5x+3.8"
   ]
  },
  {
   "cell_type": "code",
   "execution_count": 40,
   "metadata": {},
   "outputs": [
    {
     "data": {
      "text/plain": [
       "[<matplotlib.lines.Line2D at 0x7f3a1ad3afd0>]"
      ]
     },
     "execution_count": 40,
     "metadata": {},
     "output_type": "execute_result"
    },
    {
     "data": {
      "image/png": "[encoded data removed]",
      "text/plain": [
       "<Figure size 432x288 with 1 Axes>"
      ]
     },
     "metadata": {
      "needs_background": "light"
     },
     "output_type": "display_data"
    }
   ],
   "source": [
    "# creamos el conjunto de puntos, de tal forma que la Y sea la correspondiente ordenada para una linea recta\n",
    "x=linspace(0,30,100)\n",
    "y=[]\n",
    "for i in range(100):\n",
    "    y.append(recta(x[i],2.5,3.8))\n",
    "plot(x,y)"
   ]
  },
  {
   "cell_type": "code",
   "execution_count": 49,
   "metadata": {},
   "outputs": [],
   "source": [
    "#se debe incluir el ruido, para esto creamos dos arreglos con ruido blanco, o con distribucion normal\n",
    "ruidox=[]\n",
    "ruidoy=[]\n",
    "tam=0\n",
    "# esto se hace con numpy\n",
    "mu, sigma = 0, 0.5 # mean and standard deviation\n",
    "ruidox=random.normal(mu, sigma, 100)\n",
    "ruidoy=random.normal(mu, sigma, 100)"
   ]
  },
  {
   "cell_type": "code",
   "execution_count": 50,
   "metadata": {},
   "outputs": [],
   "source": [
    "#agregamos el ruido en cada arreglo\n",
    "xnoi=x+ruidox\n",
    "ynoi=y+ruidoy\n",
    "# también es posible agregar el ruido punto por punto\n",
    "#for i in range(100):\n",
    "#    xnoi[i]=x[i]+ruidox[i]\n",
    "#    ynoi[i]=x[i]+ruidoy[i]"
   ]
  },
  {
   "cell_type": "code",
   "execution_count": 51,
   "metadata": {},
   "outputs": [
    {
     "data": {
      "text/plain": [
       "<matplotlib.collections.PathCollection at 0x7f3a1abf7908>"
      ]
     },
     "execution_count": 51,
     "metadata": {},
     "output_type": "execute_result"
    },
    {
     "data": {
      "image/png": "[encoded data removed]",
      "text/plain": [
       "<Figure size 432x288 with 1 Axes>"
      ]
     },
     "metadata": {
      "needs_background": "light"
     },
     "output_type": "display_data"
    }
   ],
   "source": [
    "scatter(xnoi,ynoi)"
   ]
  },
  {
   "cell_type": "code",
   "execution_count": 43,
   "metadata": {},
   "outputs": [],
   "source": [
    "#Aqui es donde se hace el fit, en donde recibe la curva deseada, y el conjunto de puntos con ruido\n",
    "lit1,lit2=curve_fit(recta,xnoi,ynoi)"
   ]
  },
  {
   "cell_type": "markdown",
   "metadata": {},
   "source": [
    "## El primer arreglo del resultado corresponde con los coeficientes de la curva, mientras que el segundo arreglo es la matriz de covarianza correspondiente\n"
   ]
  },
  {
   "cell_type": "code",
   "execution_count": 44,
   "metadata": {},
   "outputs": [
    {
     "name": "stdout",
     "output_type": "stream",
     "text": [
      "[2.50009794 3.79480792]\n"
     ]
    }
   ],
   "source": [
    "print(lit1)"
   ]
  },
  {
   "cell_type": "code",
   "execution_count": null,
   "metadata": {},
   "outputs": [],
   "source": [
    "# notar que tan cerca estamos de los valores esperados que son 2.5 y 3.8"
   ]
  },
  {
   "cell_type": "code",
   "execution_count": 35,
   "metadata": {},
   "outputs": [
    {
     "name": "stdout",
     "output_type": "stream",
     "text": [
      "[[ 8.32440646e-10 -1.24867494e-07]\n",
      " [-1.24867494e-07  2.50996979e-05]]\n"
     ]
    }
   ],
   "source": [
    "print(lit2)"
   ]
  },
  {
   "cell_type": "code",
   "execution_count": 8,
   "metadata": {},
   "outputs": [
    {
     "name": "stdout",
     "output_type": "stream",
     "text": [
      "Populating the interactive namespace from numpy and matplotlib\n"
     ]
    }
   ],
   "source": [
    "# incluso las varianzas son bastante pequeñas. Esto se deb también en el plot, donde al ojo se puede trazar una recta"
   ]
  },
  {
   "cell_type": "code",
   "execution_count": 53,
   "metadata": {},
   "outputs": [
    {
     "data": {
      "text/plain": [
       "<matplotlib.collections.PathCollection at 0x7f3a1abd9710>"
      ]
     },
     "execution_count": 53,
     "metadata": {},
     "output_type": "execute_result"
    },
    {
     "data": {
      "image/png": "[encoded data removed]",
      "text/plain": [
       "<Figure size 432x288 with 1 Axes>"
      ]
     },
     "metadata": {
      "needs_background": "light"
     },
     "output_type": "display_data"
    }
   ],
   "source": [
    "#se debe incluir el ruido, para esto creamos dos arreglos con ruido blanco, o con distribucion normal\n",
    "ruiDOx=[]\n",
    "ruiDOy=[]\n",
    "tam=0\n",
    "\n",
    "mu, sigma = 0, 2.5 # mean and standard deviation\n",
    "ruiDOx=random.normal(mu, sigma, 100)\n",
    "ruiDOy=random.normal(mu, sigma, 100)\n",
    "xNOI=x+ruiDOx\n",
    "yNOI=y+ruiDOy\n",
    "scatter(xNOI,yNOI)"
   ]
  },
  {
   "cell_type": "code",
   "execution_count": 55,
   "metadata": {},
   "outputs": [
    {
     "name": "stdout",
     "output_type": "stream",
     "text": [
      "[2.49073268 3.91141103]\n",
      "[[ 0.00021798 -0.00327835]\n",
      " [-0.00327835  0.06607473]]\n"
     ]
    }
   ],
   "source": [
    "lit1,lit2=curve_fit(recta,xnoi,ynoi)\n",
    "print (lit1)\n",
    "print(lit2)"
   ]
  },
  {
   "cell_type": "code",
   "execution_count": null,
   "metadata": {},
   "outputs": [],
   "source": []
  },
  {
   "cell_type": "code",
   "execution_count": null,
   "metadata": {},
   "outputs": [],
   "source": [
    "#Diferencias con el valor analitico"
   ]
  },
  {
   "cell_type": "code",
   "execution_count": null,
   "metadata": {},
   "outputs": [],
   "source": []
  },
  {
   "cell_type": "markdown",
   "metadata": {},
   "source": [
    "# Como ejercicio adicional intente obtener el error porcentual de cada uno de los parametros encontrados para la recta, con ambos ruido. También puede implementar usted mismo el método de mínimos cuadrados, calculando los cocientes respectivos como su ve en su curso de física experimental, o como se explica en el libro de Landau.\n"
   ]
  },
  {
   "cell_type": "code",
   "execution_count": null,
   "metadata": {},
   "outputs": [],
   "source": []
  }
 ],
 "metadata": {
  "kernelspec": {
   "display_name": "Python 3",
   "language": "python",
   "name": "python3"
  },
  "language_info": {
   "codemirror_mode": {
    "name": "ipython",
    "version": 3
   },
   "file_extension": ".py",
   "mimetype": "text/x-python",
   "name": "python",
   "nbconvert_exporter": "python",
   "pygments_lexer": "ipython3",
   "version": "3.7.3"
  }
 },
 "nbformat": 4,
 "nbformat_minor": 2
}
